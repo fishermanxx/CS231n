{
 "cells": [
  {
   "cell_type": "markdown",
   "metadata": {
    "collapsed": false
   },
   "source": [
    "# This is a test file\n"
   ]
  },
  {
   "cell_type": "code",
   "execution_count": null,
   "metadata": {
    "collapsed": false
   },
   "outputs": [],
   "source": [
    "x = 1 + 1\n",
    "# ?sum()\n",
    "print x"
   ]
  },
  {
   "cell_type": "code",
   "execution_count": null,
   "metadata": {
    "collapsed": false
   },
   "outputs": [],
   "source": [
    "print 'I will have a try'"
   ]
  },
  {
   "cell_type": "code",
   "execution_count": null,
   "metadata": {
    "collapsed": false
   },
   "outputs": [],
   "source": [
    "# %timeit range(1000)\n"
   ]
  },
  {
   "cell_type": "code",
   "execution_count": 33,
   "metadata": {
    "collapsed": false
   },
   "outputs": [
    {
     "name": "stdout",
     "output_type": "stream",
     "text": [
      "\n",
      "y : 0    cls:  plane    idxs:  []\n",
      "\n",
      "y : 1    cls:  car    idxs:  [0]\n",
      "\n",
      "y : 2    cls:  bird    idxs:  []\n",
      "\n",
      "y : 3    cls:  cat    idxs:  [2 3]\n",
      "\n",
      "y : 4    cls:  deer    idxs:  [1 8]\n",
      "\n",
      "y : 5    cls:  dog    idxs:  [5 6 7]\n",
      "\n",
      "y : 6    cls:  frog    idxs:  []\n",
      "\n",
      "y : 7    cls:  horse    idxs:  [4]\n",
      "\n",
      "y : 8    cls:  ship    idxs:  []\n",
      "\n",
      "y : 9    cls:  truck    idxs:  []\n"
     ]
    }
   ],
   "source": [
    "import numpy as np\n",
    "# ?np.flatnonzero()\n",
    "classes = ['plane', 'car', 'bird', 'cat', 'deer', 'dog', 'frog', 'horse', 'ship', 'truck']\n",
    "num_classes = len(classes)\n",
    "y_train = np.asarray([1,4,3,3,7,5,5,5,4])\n",
    "for y, cls in enumerate(classes):\n",
    "    idxs = np.flatnonzero(y_train == y)\n",
    "    print '\\ny :',y,'   cls: ',cls,'   idxs: ',idxs\n"
   ]
  },
  {
   "cell_type": "code",
   "execution_count": null,
   "metadata": {
    "collapsed": false
   },
   "outputs": [],
   "source": [
    "import numpy as np\n",
    "a = np.asarray([[[1,2,3],[4,5,6]],[[7,8,9],[10,11,12]]])\n",
    "print 'a shape: ',a.shape\n",
    "print '\\n',a\n",
    "a = np.reshape(a,(a.shape[0],a.shape[1],-1))\n",
    "# a = np.reshape(a,(a.shape[0],-1))\n",
    "# a = np.reshape(a,(-1))\n",
    "print 'a shape: ',a.shape\n",
    "print '\\n',a"
   ]
  },
  {
   "cell_type": "code",
   "execution_count": null,
   "metadata": {
    "collapsed": false
   },
   "outputs": [],
   "source": [
    "import numpy as np\n",
    "a = np.asarray([1,2,3,4,5])\n",
    "b = np.asarray([7,6,5,4,3])\n",
    "# print sum((b-a)**2)\n",
    "a[0:1]\n"
   ]
  },
  {
   "cell_type": "code",
   "execution_count": 38,
   "metadata": {
    "collapsed": false
   },
   "outputs": [
    {
     "name": "stdout",
     "output_type": "stream",
     "text": [
      "5\n",
      "[ 0.  0.  0.  0.  0.  0.  0.  0.  0.  0.]\n"
     ]
    }
   ],
   "source": [
    "import numpy as np\n",
    "temp = np.zeros(10)\n",
    "a = np.asarray([1,4,2,3,2,5,3])\n",
    "sort = np.argmax(a)\n",
    "print sort\n",
    "print temp\n",
    "\n"
   ]
  },
  {
   "cell_type": "code",
   "execution_count": 6,
   "metadata": {
    "collapsed": false
   },
   "outputs": [
    {
     "name": "stdout",
     "output_type": "stream",
     "text": [
      "[[ 1.  1.  2.  3.]\n",
      " [ 1.  4.  5.  6.]]\n"
     ]
    }
   ],
   "source": [
    "import numpy as np\n",
    "a = np.asarray([[1,2,3],[4,5,6]])\n",
    "b = np.mean(a,axis=0)\n",
    "c = np.hstack([np.ones((a.shape[0],1)),a])\n",
    "print c"
   ]
  },
  {
   "cell_type": "code",
   "execution_count": null,
   "metadata": {
    "collapsed": true
   },
   "outputs": [],
   "source": []
  }
 ],
 "metadata": {
  "kernelspec": {
   "display_name": "Python 2",
   "language": "python",
   "name": "python2"
  },
  "language_info": {
   "codemirror_mode": {
    "name": "ipython",
    "version": 2
   },
   "file_extension": ".py",
   "mimetype": "text/x-python",
   "name": "python",
   "nbconvert_exporter": "python",
   "pygments_lexer": "ipython2",
   "version": "2.7.13"
  }
 },
 "nbformat": 4,
 "nbformat_minor": 2
}
